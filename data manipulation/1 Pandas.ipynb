{
  "cells": [
    {
      "cell_type": "raw",
      "metadata": {},
      "source": [
        "---\n",
        "title: \"Data manipulation with Pandas\"\n",
        "execute:\n",
        "  warning: false\n",
        "  error: false\n",
        "format:\n",
        "  html:\n",
        "    toc: true\n",
        "    toc-location: right\n",
        "    code-fold: show\n",
        "    code-tools: true\n",
        "    number-sections: true\n",
        "    code-block-bg: true\n",
        "    code-block-border-left: \"#31BAE9\"\n",
        "---"
      ],
      "id": "8f44cc58"
    },
    {
      "cell_type": "markdown",
      "metadata": {},
      "source": [
        "![](images/Pandas_logo.svg.png){width=\"600\"}\n"
      ],
      "id": "c3075a7c"
    },
    {
      "cell_type": "code",
      "metadata": {},
      "source": [
        "import sys\n",
        "print(sys.version)"
      ],
      "id": "83b2e28f",
      "execution_count": null,
      "outputs": []
    },
    {
      "cell_type": "code",
      "metadata": {},
      "source": [
        "import pandas as pd\n",
        "print('pandas version', pd.__version__)"
      ],
      "id": "a529775f",
      "execution_count": null,
      "outputs": []
    },
    {
      "cell_type": "markdown",
      "metadata": {},
      "source": [
        "## Reading from parquet\n"
      ],
      "id": "34cb0b9e"
    },
    {
      "cell_type": "code",
      "metadata": {},
      "source": [
        "df = pd.read_parquet(\"data/Combined_Flights_2022.parquet\")"
      ],
      "id": "f4ca6ea5",
      "execution_count": null,
      "outputs": []
    },
    {
      "cell_type": "markdown",
      "metadata": {},
      "source": [
        "## get first 3 rows"
      ],
      "id": "b4c185a6"
    },
    {
      "cell_type": "code",
      "metadata": {},
      "source": [
        "df.head(3)"
      ],
      "id": "d87d4664",
      "execution_count": null,
      "outputs": []
    },
    {
      "cell_type": "markdown",
      "metadata": {},
      "source": [
        "## get last 3 rows"
      ],
      "id": "fc987036"
    },
    {
      "cell_type": "code",
      "metadata": {},
      "source": [
        "df.tail(3)"
      ],
      "id": "6c0e29af",
      "execution_count": null,
      "outputs": []
    },
    {
      "cell_type": "markdown",
      "metadata": {},
      "source": [
        "## get ramdon 5 rows\n"
      ],
      "id": "bff6aa60"
    },
    {
      "cell_type": "code",
      "metadata": {},
      "source": [
        "df.sample(5, random_state=42)"
      ],
      "id": "e666c7fa",
      "execution_count": null,
      "outputs": []
    },
    {
      "cell_type": "markdown",
      "metadata": {},
      "source": [
        "## get columns names"
      ],
      "id": "7208d3f6"
    },
    {
      "cell_type": "code",
      "metadata": {},
      "source": [
        "df.columns"
      ],
      "id": "091a0d27",
      "execution_count": null,
      "outputs": []
    },
    {
      "cell_type": "markdown",
      "metadata": {},
      "source": [
        "## get row index"
      ],
      "id": "1ed157e7"
    },
    {
      "cell_type": "code",
      "metadata": {},
      "source": [
        "df.index"
      ],
      "id": "ddf5cfdb",
      "execution_count": null,
      "outputs": []
    },
    {
      "cell_type": "markdown",
      "metadata": {},
      "source": [
        "## get long info "
      ],
      "id": "75101f2d"
    },
    {
      "cell_type": "code",
      "metadata": {},
      "source": [
        "df.info()"
      ],
      "id": "4ad2f301",
      "execution_count": null,
      "outputs": []
    },
    {
      "cell_type": "markdown",
      "metadata": {},
      "source": [
        "## get short info "
      ],
      "id": "0c33234e"
    },
    {
      "cell_type": "code",
      "metadata": {},
      "source": [
        "df.info(verbose=False)"
      ],
      "id": "58cf2b5f",
      "execution_count": null,
      "outputs": []
    },
    {
      "cell_type": "markdown",
      "metadata": {},
      "source": [
        "## summary of numeric column"
      ],
      "id": "02dfc1a6"
    },
    {
      "cell_type": "code",
      "metadata": {},
      "source": [
        "df.describe()"
      ],
      "id": "022206f4",
      "execution_count": null,
      "outputs": []
    },
    {
      "cell_type": "markdown",
      "metadata": {},
      "source": [
        "## summary of categorical column"
      ],
      "id": "8146d08e"
    },
    {
      "cell_type": "code",
      "metadata": {},
      "source": [
        "df[[\"Airline\"]].describe()"
      ],
      "id": "8205f87b",
      "execution_count": null,
      "outputs": []
    },
    {
      "cell_type": "markdown",
      "metadata": {},
      "source": [
        "## selct column\n"
      ],
      "id": "e5c82d19"
    },
    {
      "cell_type": "code",
      "metadata": {},
      "source": [
        "df['FlightDate','Airline']"
      ],
      "id": "5d60c8c5",
      "execution_count": null,
      "outputs": []
    },
    {
      "cell_type": "code",
      "metadata": {},
      "source": [
        "df.columns"
      ],
      "id": "ea4fb59e",
      "execution_count": null,
      "outputs": []
    },
    {
      "cell_type": "markdown",
      "metadata": {},
      "source": [
        "# Reference:\n",
        "\n",
        "https://www.youtube.com/watch?v=DkjCaAMBGWM\n",
        "\n",
        "https://www.youtube.com/watch?v=_gaAoJBMJ_Q\n",
        "\n",
        "https://pandas.pydata.org/\n",
        "\n",
        "https://www.kaggle.com/code/lizhecheng/pandas-2-0-1-tutorial/notebook\n"
      ],
      "id": "46a9b854"
    }
  ],
  "metadata": {
    "kernelspec": {
      "name": "python3",
      "language": "python",
      "display_name": "Python 3 (ipykernel)"
    }
  },
  "nbformat": 4,
  "nbformat_minor": 5
}